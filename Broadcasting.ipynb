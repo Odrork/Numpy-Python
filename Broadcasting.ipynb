{
 "cells": [
  {
   "attachments": {
    "image.png": {
     "image/png": "[encoded data removed]"
    }
   },
   "cell_type": "markdown",
   "metadata": {},
   "source": [
    "# NumPy Python\n",
    "\n",
    "## Broadcasting\n",
    "\n",
    "El broadcasting es un proceso de NumPyk que hace que funciones las operaciones aritméticas con objetos que no tienen necesariamente la misma dimensión. El array más pequeño se transmite a través del más granfe para que tengan formatos compatibles.\n",
    "\n",
    "Para entenderlo mejor vamos a poner un ejemplo:\n",
    "\n",
    "Tenemos una lista de datos, en NumPy se representaría como un array 2D. Donde cada fila representada es un dato. Supongamos que queremos aplicar un tipo de escala a todos los datos, por ejemplo, que cada dato se multiplique por un valor.\n",
    "\n",
    "Solo para tener una comprensión clara: contemos las calorías compuestas de grasas (9 calorías por gramo), proteína (4 calorías por gramo) y carbohidratos (4 calorías por gramo). Entonces, si enumeramos algunos alimentos (tabla inferior), y para cada alimento enumeramos su desglose de macronutrientes (parámetros), podemos multiplicar cada nutriente por su valor calórico (aplicar escala -> 3,3,8) para calcular el desglose calórico de cada alimento.\n",
    "\n",
    "![image.png](attachment:image.png)\n",
    "\n",
    "Con esta transformación, ahora podemmos calcular todo tipo tipo de información útil. Por ejemplo, cuál es el número total de calorías presentes en algún alimento, saber cuántas calorias obtenemos de las proteínas, etc..."
   ]
  },
  {
   "cell_type": "code",
   "execution_count": null,
   "metadata": {},
   "outputs": [],
   "source": [
    "import numpy as np"
   ]
  },
  {
   "cell_type": "code",
   "execution_count": null,
   "metadata": {},
   "outputs": [],
   "source": [
    "tabla = np.array([\n",
    "[0.8, 2.9, 3.9],\n",
    "[52.4, 23.6, 36.5],\n",
    "[55.2, 31.7, 23.9],\n",
    "[14.4, 11, 4.9]\n",
    "])\n",
    "\n",
    "# Create a new array filled with zeros,\n",
    "# of the same shape as macros.\n",
    "resultado = np.zeros_like(tabla)\n",
    "\n",
    "escala = np.array([3, 3, 8])\n",
    "\n",
    "# Now multiply each row of macros by\n",
    "# cal_per_macro. In Numpy, `*` is\n",
    "# element-wise multiplication between two arrays.\n",
    "for i in range(tabla.shape[0]):\n",
    "\tresultado[i, :] = tabla[i, :] * escala\n",
    "\n",
    "resultado\n"
   ]
  },
  {
   "attachments": {},
   "cell_type": "markdown",
   "metadata": {},
   "source": [
    "## Reglas transmisión\n",
    "\n",
    "la transmisión de dos arrays sigue unas reglas:\n",
    "\n",
    "- Si las dos matrices difieren en el número de dimensiones, la forma de la que tiene menos dimensiones se rellena con unos en su lado inicial (izquierdo)\n",
    "\n",
    "- Si la forma de las dos matrices no coincide en ninguna dimensión, la matriz con forma igual a 1 en esa dimensión se estira para que coincida con la otra forma\n",
    "\n",
    "- Si en alguna dimensión los tamaños no están de acuerdo y ninguno es igual a 1, se genera un error."
   ]
  },
  {
   "cell_type": "code",
   "execution_count": null,
   "metadata": {},
   "outputs": [],
   "source": [
    "# Ejemplo con array 1D \n",
    "vector = np.array([32, 1, 14])\n",
    "n = 5\n",
    "resultado = vector + n\n",
    "resultado \n"
   ]
  },
  {
   "cell_type": "code",
   "execution_count": null,
   "metadata": {},
   "outputs": [],
   "source": [
    "# Ejemplo con array 2D\n",
    "array = np.array([[5, 90, 22], [432, 32, 17]])\n",
    "n = 25\n",
    "resultado = array + n \n",
    "resultado"
   ]
  },
  {
   "attachments": {},
   "cell_type": "markdown",
   "metadata": {},
   "source": [
    "### Ejemplo 1\n",
    "\n",
    "Transmision de una matriz 1D y una matriz 2D"
   ]
  },
  {
   "cell_type": "code",
   "execution_count": null,
   "metadata": {},
   "outputs": [],
   "source": [
    "matriz_2d = np.ones((2,3))\n",
    "matriz_1d = np.arange((3))"
   ]
  },
  {
   "attachments": {},
   "cell_type": "markdown",
   "metadata": {},
   "source": [
    "Asi se veran las matrices"
   ]
  },
  {
   "cell_type": "code",
   "execution_count": null,
   "metadata": {},
   "outputs": [],
   "source": [
    "matriz_1d"
   ]
  },
  {
   "cell_type": "code",
   "execution_count": null,
   "metadata": {},
   "outputs": [],
   "source": [
    "matriz_2d"
   ]
  },
  {
   "attachments": {},
   "cell_type": "markdown",
   "metadata": {},
   "source": [
    "Consideremos una operación en estas dos matrices. La forma de las matrices son:\n",
    "\n",
    "matriz_2d.shape = (2, 3)\n",
    "matriz_1d.shape = (3,)\n",
    "\n",
    "Vemos por la regla 1 que la matriz_1d tiene menos dimensiones, por lo que la rellenamos a la izquierda con unos:\n",
    "\n",
    "matriz_2d.shape -> (2, 3)\n",
    "matriz_1d.shape -> (1, 3)\n",
    "\n",
    "Por la regla 2, ahora vemos que la primera dimensión no está de acuerdo, por lo que estiramos esta dimensión para que coincida:\n",
    "\n",
    "matriz_2d.shape -> (2, 3)\n",
    "matriz_1d .shape -> (2, 3)\n",
    "\n",
    "Las formas coinciden, y vemos que la forma final será (2, 3):"
   ]
  },
  {
   "cell_type": "code",
   "execution_count": null,
   "metadata": {},
   "outputs": [],
   "source": [
    "matriz_1d + matriz_2d"
   ]
  },
  {
   "attachments": {},
   "cell_type": "markdown",
   "metadata": {},
   "source": [
    "### Ejemplo 2: \n",
    "\n",
    "Ejemplo donde cada matriz se debe transmitir\n"
   ]
  },
  {
   "cell_type": "code",
   "execution_count": null,
   "metadata": {},
   "outputs": [],
   "source": [
    "matriz_1 = np.arange((3)).reshape((3,1))\n",
    "matriz_2 = np.arange((3))"
   ]
  },
  {
   "attachments": {},
   "cell_type": "markdown",
   "metadata": {},
   "source": [
    "Asi se ven las matrices: "
   ]
  },
  {
   "cell_type": "code",
   "execution_count": null,
   "metadata": {},
   "outputs": [],
   "source": [
    "matriz_1"
   ]
  },
  {
   "cell_type": "code",
   "execution_count": null,
   "metadata": {},
   "outputs": [],
   "source": [
    "matriz_2"
   ]
  },
  {
   "attachments": {},
   "cell_type": "markdown",
   "metadata": {},
   "source": [
    "Nuevamente, comenzaremos escribiendo la forma de las matrices:\n",
    "\n",
    "matriz_1.shape = (3, 1)\n",
    "matriz_2.shape = (3,)\n",
    "\n",
    "La regla 1 dice que debemos rellenar la forma de matriz_2 con unos:\n",
    "\n",
    "matriz_1.shape -> (3, 1)\n",
    "matriz_2.shape -> (1, 3)\n",
    "\n",
    "Y la regla 2 nos dice que actualizamos cada uno de estos para que coincida con el tamaño correspondiente de la otra matriz:\n",
    "\n",
    "matriz_1.shape -> (3, 3)\n",
    "matriz_2.shape -> (3, 3)\n",
    "\n",
    "Debido a que el resultado coincide, estas formas son compatibles. Esto lo podemos ver aquí:"
   ]
  },
  {
   "cell_type": "code",
   "execution_count": null,
   "metadata": {},
   "outputs": [],
   "source": [
    "matriz_1 + matriz_2"
   ]
  },
  {
   "attachments": {},
   "cell_type": "markdown",
   "metadata": {},
   "source": [
    "### Ejemplo 3\n",
    "\n",
    "En este ejemplo veremos dos matrices que no son compatibles: "
   ]
  },
  {
   "cell_type": "code",
   "execution_count": null,
   "metadata": {},
   "outputs": [],
   "source": [
    "matriz_1 = np.ones((3,2))\n",
    "matriz_2 = np.arange((3))"
   ]
  },
  {
   "attachments": {},
   "cell_type": "markdown",
   "metadata": {},
   "source": [
    "Esta es solo una situación ligeramente diferente a la del primer ejemplo: la matriz matriz_1 se transpone. ¿Cómo afecta esto al cálculo? La forma de las matrices son\n",
    "\n",
    "matriz_1.shape = (3, 2)\n",
    "matriz_2.shape = (3,)\n",
    "\n",
    "De nuevo, la regla 1 nos dice que debemos rellenar la forma de matriz_2 con unos:\n",
    "\n",
    "matriz_1.shape -> (3, 2)\n",
    "matriz_2.shape -> (1, 3)\n",
    "\n",
    "Por la regla 2, la primera dimensión de ase estira para que coincida con la de matriz_1:\n",
    "\n",
    "matriz_1.shape -> (3, 2)\n",
    "matriz_2.shape -> (3, 3)\n",
    "\n",
    "Ahora llegamos a la regla 3: las formas finales no coinciden, por lo que estas dos matrices son incompatibles, como podemos observar al intentar esta operación:"
   ]
  },
  {
   "cell_type": "code",
   "execution_count": null,
   "metadata": {},
   "outputs": [],
   "source": [
    "matriz_1 + matriz_2"
   ]
  }
 ],
 "metadata": {
  "kernelspec": {
   "display_name": "Python 3",
   "language": "python",
   "name": "python3"
  },
  "language_info": {
   "codemirror_mode": {
    "name": "ipython",
    "version": 3
   },
   "file_extension": ".py",
   "mimetype": "text/x-python",
   "name": "python",
   "nbconvert_exporter": "python",
   "pygments_lexer": "ipython3",
   "version": "3.9.4"
  },
  "orig_nbformat": 4
 },
 "nbformat": 4,
 "nbformat_minor": 2
}
