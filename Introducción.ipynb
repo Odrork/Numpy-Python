{
 "cells": [
  {
   "attachments": {},
   "cell_type": "markdown",
   "metadata": {},
   "source": [
    "# NumPy Python \n",
    "\n",
    "## Introducción\n",
    "\n",
    "NumPy es una librería de Python especializada en el cálculo numérico y el análisis de datos, especialmente para un gran volumen de datos. \n",
    "\n",
    "Incorpora una nueva clase de objetos llamados arrays que permite representar colecciones de datos de un mismo tipo en varias dimensiones, y funciones muy eficientes para su manipulación. \n",
    "\n",
    "La ventaja de NumPy frente a las listas predefinidas en Python es que el procesamiento de los arrays se realiza mucho más rápido que las listas, lo cual la hace ideal para el procesamiento de vectores y matrices de grandes dimensiones.\n",
    "\n"
   ]
  }
 ],
 "metadata": {
  "language_info": {
   "name": "python"
  },
  "orig_nbformat": 4
 },
 "nbformat": 4,
 "nbformat_minor": 2
}
