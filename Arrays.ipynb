{
 "cells": [
  {
   "attachments": {},
   "cell_type": "markdown",
   "metadata": {},
   "source": [
    "# NumPy Python\n",
    "\n",
    "## Clase array\n",
    "\n",
    "Un array es una estructura de datos de un mismo tipo que se organiza en forma de tabla o cuadricula de distintas dimensiones. Las dimensiones se conocen como: ejes/axis.\n",
    "\n",
    "Un array de una dimensión se conoce como: un vector, un array de dos dimensiones se conoce como: matriz/matrix y por último un array de tres dimensiones se conoce como: cubo/3D matrix.\n",
    "\n",
    "## Creación de arrays\n",
    "\n",
    "Para crear un array desde NumPy utilizaremos la siguiente función: **np.array()**. Entre las paréntesis podemos declarar una variable que contenga los datos o escribir directamente los valores del array entre **[]**."
   ]
  },
  {
   "cell_type": "code",
   "execution_count": null,
   "metadata": {},
   "outputs": [],
   "source": [
    "import numpy as np\n",
    "\n",
    "np.array([[1,2],[3,4]])"
   ]
  },
  {
   "cell_type": "code",
   "execution_count": null,
   "metadata": {},
   "outputs": [],
   "source": [
    "array = [[1,2],[3,4]]\n",
    "np.array(array)"
   ]
  },
  {
   "cell_type": "code",
   "execution_count": null,
   "metadata": {},
   "outputs": [],
   "source": [
    "# Array de una dimension\n",
    "np.array([1,2,3])\n",
    "\n",
    "# Array de dos dimensiones\n",
    "np.array([[1,2,3],[4,5,6]])\n",
    "\n",
    "# Array de tres dimensiones\n",
    "np.array([[[1,2,3],[4,5,6]],[[7,8,9],[10,11,12]]])"
   ]
  },
  {
   "attachments": {},
   "cell_type": "markdown",
   "metadata": {},
   "source": [
    "## Funciones útiles para generar arrays\n",
    "\n",
    "Tenemos diferentes maneras de poder generar arrays de otras maneras. Por ejemplo podemos generar un array cuyos elementos seran solo ceros o unos,"
   ]
  },
  {
   "attachments": {},
   "cell_type": "markdown",
   "metadata": {},
   "source": [
    "#### np.zeros(dimensión)\n",
    "\n",
    "Array cuyos elementos seran ceros. Entre las paréntesis definimos la dimensión del array."
   ]
  },
  {
   "cell_type": "code",
   "execution_count": null,
   "metadata": {},
   "outputs": [],
   "source": [
    "np.zeros((4,2))"
   ]
  },
  {
   "attachments": {},
   "cell_type": "markdown",
   "metadata": {},
   "source": [
    "#### np.ones(dimensión)\n",
    "\n",
    "Mismo funcionamiento que la anterior con la diferencia que los elemntos seran unos y no ceros"
   ]
  },
  {
   "cell_type": "code",
   "execution_count": null,
   "metadata": {},
   "outputs": [],
   "source": [
    "np.ones((2,1))"
   ]
  },
  {
   "attachments": {},
   "cell_type": "markdown",
   "metadata": {},
   "source": [
    "#### np.full(dimensión, valor)\n",
    "\n",
    "Crearemos un array con la dimensión especificada y valores especificados."
   ]
  },
  {
   "cell_type": "code",
   "execution_count": null,
   "metadata": {},
   "outputs": [],
   "source": [
    "np.full((2,3),7)"
   ]
  },
  {
   "attachments": {},
   "cell_type": "markdown",
   "metadata": {},
   "source": [
    "#### np.arrange(inicio, fin, salto)\n",
    "\n",
    "Utilizada para crear vectores facilmente. Especificamos el valor de inicio, el valor de fin y los saltos entre valores"
   ]
  },
  {
   "cell_type": "code",
   "execution_count": null,
   "metadata": {},
   "outputs": [],
   "source": [
    "np.arange(1,10,2) "
   ]
  },
  {
   "attachments": {},
   "cell_type": "markdown",
   "metadata": {},
   "source": [
    "#### ndmin\n",
    "\n",
    "Podemos definir el numero de dimensiones."
   ]
  },
  {
   "cell_type": "code",
   "execution_count": null,
   "metadata": {},
   "outputs": [],
   "source": [
    "np.array([1,2,3,4], ndmin = 5)"
   ]
  },
  {
   "attachments": {},
   "cell_type": "markdown",
   "metadata": {},
   "source": [
    "## Atributos de un array\n",
    "\n",
    "#### .ndim\n",
    "\n",
    "Devuelve el número de dimensiones del array indicado."
   ]
  },
  {
   "cell_type": "code",
   "execution_count": null,
   "metadata": {},
   "outputs": [],
   "source": [
    "array = np.array([[1,2,3],[4,5,6]])\n",
    "array.ndim"
   ]
  },
  {
   "attachments": {},
   "cell_type": "markdown",
   "metadata": {},
   "source": [
    "#### .shape\n",
    "\n",
    "Devuelve una tupla con las dimensiones del array"
   ]
  },
  {
   "cell_type": "code",
   "execution_count": null,
   "metadata": {},
   "outputs": [],
   "source": [
    "array.shape"
   ]
  },
  {
   "attachments": {},
   "cell_type": "markdown",
   "metadata": {},
   "source": [
    "#### .reshape()\n",
    "\n",
    "Cambia el shape del array, sin cambiar los elementos que lo componen. Debemos pasar los nuevos valores entre las paréntesis"
   ]
  },
  {
   "cell_type": "code",
   "execution_count": null,
   "metadata": {},
   "outputs": [],
   "source": [
    "array.reshape(3,2)"
   ]
  },
  {
   "attachments": {},
   "cell_type": "markdown",
   "metadata": {},
   "source": [
    "#### .size\n",
    "\n",
    "Devuelve el numero de elementos del array."
   ]
  },
  {
   "cell_type": "code",
   "execution_count": null,
   "metadata": {},
   "outputs": [],
   "source": [
    "array.size"
   ]
  },
  {
   "attachments": {},
   "cell_type": "markdown",
   "metadata": {},
   "source": [
    "#### .dtype\n",
    "\n",
    "Devuelve el tipo de datos de los elementos."
   ]
  },
  {
   "cell_type": "code",
   "execution_count": null,
   "metadata": {},
   "outputs": [],
   "source": [
    "array.dtype"
   ]
  },
  {
   "attachments": {},
   "cell_type": "markdown",
   "metadata": {},
   "source": [
    "## Acceso a un array\n",
    "\n",
    "Al igual que una lista utilizaremos los índices para acceder a un array, con la diferencia que indicaremos los índices de cada dimensión separados por comas. Los índices empiezan por 0 al igual que las listas.\n",
    "\n",
    "También es posible obtener subarrays con el operador \":\" indicando el índice inicial y el siguiente al final para cada dimensión, de nuevo separados por comas."
   ]
  },
  {
   "cell_type": "code",
   "execution_count": null,
   "metadata": {},
   "outputs": [],
   "source": [
    "a = np.array([[1,2,3],[4,5,6]])\n",
    "a[1,0] # Acceso al elemento de la fila 1 columna 0"
   ]
  },
  {
   "cell_type": "code",
   "execution_count": null,
   "metadata": {},
   "outputs": [],
   "source": [
    "a[:, 0:2]"
   ]
  },
  {
   "attachments": {},
   "cell_type": "markdown",
   "metadata": {},
   "source": [
    "## Filtrado de un array\n",
    "\n",
    "Podemos obtener un array a partir de otro. Es decir, a partir de un array podemos crear diferentes arrays con los valores que queramos de ese array principal"
   ]
  },
  {
   "cell_type": "code",
   "execution_count": null,
   "metadata": {},
   "outputs": [],
   "source": [
    "a[(a % 2 == 0)]"
   ]
  },
  {
   "cell_type": "code",
   "execution_count": null,
   "metadata": {},
   "outputs": [],
   "source": [
    "a[(a % 2 == 0) & (a > 2)]"
   ]
  },
  {
   "attachments": {},
   "cell_type": "markdown",
   "metadata": {},
   "source": [
    "## Operaciones con arrays\n",
    "\n",
    "Se puede operar con arrays de dos maneras distintas: con sus elementos o la propia array. Para poder operar con los elementos de un array se necesita dos arrays y se operan con los elementos que ocupan la misma posición. Por lo tanto, deben ser de la misma dimensión para poder efectuar la operación.\n",
    "\n"
   ]
  },
  {
   "cell_type": "code",
   "execution_count": null,
   "metadata": {},
   "outputs": [],
   "source": [
    "# Operación con array \n",
    "a ** 2"
   ]
  },
  {
   "cell_type": "code",
   "execution_count": null,
   "metadata": {},
   "outputs": [],
   "source": [
    "b = np.array([[1,1,1],[2,2,2]])\n",
    "\n",
    "# Operación con elementos\n",
    "a + b"
   ]
  },
  {
   "attachments": {},
   "cell_type": "markdown",
   "metadata": {},
   "source": [
    "## Concatenar arrays\n",
    "\n",
    "Concatenar array quiere decir juntar varios arrays en uno solo. Para ello, utilizaremos la funcion **concatenate()**."
   ]
  },
  {
   "cell_type": "code",
   "execution_count": null,
   "metadata": {},
   "outputs": [],
   "source": [
    "# Juntar dos matrices en una\n",
    "a = np.array([[1,2,3],[4,5,6]])\n",
    "b = np.array([[1,1,1],[2,2,2]])\n",
    "c = np.concatenate((a, b), axis = 1)\n",
    "c"
   ]
  },
  {
   "cell_type": "code",
   "execution_count": null,
   "metadata": {},
   "outputs": [],
   "source": [
    "# Juntar dos vectores en uno\n",
    "vector_1 = np.array([1,2,3])\n",
    "vector_2 = np.array([4,5,6])\n",
    "vector_3 = np.concatenate((vector_1, vector_2))\n",
    "vector_3"
   ]
  },
  {
   "attachments": {},
   "cell_type": "markdown",
   "metadata": {},
   "source": [
    "## Stacking de arrays\n",
    "\n",
    "Hacer stacking es lo mismo que concatenar un array con la diferencia que con el stacking se hace sobre un nuevo eje. La función utilizada es: **stack()**\n",
    "\n",
    "Si queremos hacer un stacking en el mismo eje podemos utilizar la función: **hstack()**\n",
    "\n",
    "Para un stacking en columnas utilizamos: **vstack()**"
   ]
  },
  {
   "cell_type": "code",
   "execution_count": null,
   "metadata": {},
   "outputs": [],
   "source": [
    "# stack()\n",
    "c = np.stack((a, b), axis = 1)\n",
    "c"
   ]
  },
  {
   "cell_type": "code",
   "execution_count": null,
   "metadata": {},
   "outputs": [],
   "source": [
    "# hstack()\n",
    "c = np.hstack((a, b))\n",
    "c"
   ]
  },
  {
   "cell_type": "code",
   "execution_count": null,
   "metadata": {},
   "outputs": [],
   "source": [
    "# vstack()\n",
    "c = np.vstack((a, b))\n",
    "c"
   ]
  },
  {
   "attachments": {},
   "cell_type": "markdown",
   "metadata": {},
   "source": [
    "## Splitting de arrays\n",
    "\n",
    "El splitting viene a ser lo contrario a concatenar. Es decir, el splitting romper un array en varios. Para ello, utilizaremos: **array_split(nombre, numeroCortes)**\n",
    "\n",
    "En caso de que queramos hacer un splitting y el número de elementos no sea el idóneo para poder hacer grupos igual, la función lo adaptara lo más conveniente posible.\n",
    "\n",
    "Podemos retornar un array creada a partir del splitting hecho anteriormente con: **array_split()**\n",
    "\n",
    "Funciones integradas en NumPy para el splitting:\n",
    "- **hsplit**: divide una matriz en múltiples submatrices horizontalmente.\n",
    "- **vsplit**: divide una matriz en múltiples submatrices verticalmente.\n",
    "- **dsplit**: divide una matriz en múltiples submatrices a lo largo del tercer eje (profundidad).\n",
    "- **array_split**: divide una matriz en múltiples submatrices."
   ]
  },
  {
   "cell_type": "code",
   "execution_count": null,
   "metadata": {},
   "outputs": [],
   "source": [
    "arr = np.array([1,2,3,4,5,6])\n",
    "split = np.array_split(arr, 3)\n",
    "split\n"
   ]
  },
  {
   "cell_type": "code",
   "execution_count": null,
   "metadata": {},
   "outputs": [],
   "source": [
    "# Splitting con numero de elementos diferentes\n",
    "split = np.array_split(arr, 4)\n",
    "split"
   ]
  },
  {
   "attachments": {},
   "cell_type": "markdown",
   "metadata": {},
   "source": [
    "## Añadir/quitar elementos\n",
    "\n",
    "En NumPy tenemos varias funciones integradas para añadir o quitar elementos:\n",
    "\n",
    "- **resize**: devuelve una nueva matriz con la forma especificada, remplaza por ceros los nuevos elementos creados.\n",
    "- **append**: añade valor al final del array\n",
    "- **insert**: añade valor en el medio del array\n",
    "- **delete**: retorna un array con los valores eliminadas\n",
    "- **unique**: busca el valor único del array"
   ]
  },
  {
   "cell_type": "code",
   "execution_count": null,
   "metadata": {},
   "outputs": [],
   "source": [
    "# resize\n",
    "array_resize = np.array([[0,1],[2,3]])\n",
    "np.resize(array_resize,(2,3))"
   ]
  },
  {
   "cell_type": "code",
   "execution_count": null,
   "metadata": {},
   "outputs": [],
   "source": [
    "# append\n",
    "np.append([1,2,3],[[4,5,6],[7,8,9]])"
   ]
  },
  {
   "cell_type": "code",
   "execution_count": null,
   "metadata": {},
   "outputs": [],
   "source": [
    "# insert\n",
    "np.insert(a, 1, 5)"
   ]
  },
  {
   "cell_type": "code",
   "execution_count": null,
   "metadata": {},
   "outputs": [],
   "source": [
    "# unique\n",
    "np.unique(a)"
   ]
  },
  {
   "cell_type": "code",
   "execution_count": null,
   "metadata": {},
   "outputs": [],
   "source": [
    "# delete\n",
    "np.delete(a, 1, 0)"
   ]
  },
  {
   "attachments": {},
   "cell_type": "markdown",
   "metadata": {},
   "source": [
    "## Sorting\n",
    "\n",
    "Sorting quiere decir poner los elementos del array en una secuencia ordenada. En NumPy tenemos una función llamada **sort()**, para ordenar un array específica.\n",
    "\n",
    "Este método devuelve una copia del array, dejando la original sin modificar."
   ]
  },
  {
   "cell_type": "code",
   "execution_count": null,
   "metadata": {},
   "outputs": [],
   "source": [
    "# sort()\n",
    "array_sorting = np.array([3,9,1])\n",
    "np.sort(array_sorting)"
   ]
  },
  {
   "cell_type": "code",
   "execution_count": null,
   "metadata": {},
   "outputs": [],
   "source": [
    "# sort() con array alfanumérica\n",
    "array_alfanumerica = (['platano','pera','mango'])\n",
    "np.sort(array_alfanumerica)"
   ]
  },
  {
   "attachments": {},
   "cell_type": "markdown",
   "metadata": {},
   "source": [
    "## Copiar vs Visualizar\n",
    "\n",
    "Copiar nos permite hacer cambios en el array sin afectar al orignal y cualquier cambio en el array orignal no afectara a la copia. Visualizar seria lo contrario, cualquier cambio que hagamos tanto en el orignal o en la visualizacion se veran reflejados en ellos mismo."
   ]
  },
  {
   "cell_type": "code",
   "execution_count": null,
   "metadata": {},
   "outputs": [],
   "source": [
    "# copy \n",
    "copia_arr = arr.copy()\n",
    "arr[0] = 42\n",
    "arr\n"
   ]
  },
  {
   "cell_type": "code",
   "execution_count": null,
   "metadata": {},
   "outputs": [],
   "source": [
    "# view\n",
    "view_arr = arr.view()\n",
    "arr[0] = 42\n",
    "view_arr"
   ]
  },
  {
   "cell_type": "code",
   "execution_count": null,
   "metadata": {},
   "outputs": [],
   "source": [
    "# cambios en view\n",
    "view_arr[0] = 31\n",
    "arr"
   ]
  },
  {
   "attachments": {},
   "cell_type": "markdown",
   "metadata": {},
   "source": [
    "## Iterar\n",
    "\n",
    "Iterar vendria a ser reocrrer los elementos del arrays uno por uno. Para ello lo haremos con un simple bucle for. \n",
    "\n",
    "**nditer()** es una función bastante útil que se puede utilizar desde iteraciones basicas a más complejas. Por ejemplo si queremos recorrer un array de bastantes dimensiones, nos sera más facil utilizando esta función."
   ]
  },
  {
   "cell_type": "code",
   "execution_count": null,
   "metadata": {},
   "outputs": [],
   "source": [
    "# Vector\n",
    "\n",
    "for x in vector_1: \n",
    "    print(x)"
   ]
  },
  {
   "cell_type": "code",
   "execution_count": null,
   "metadata": {},
   "outputs": [],
   "source": [
    "# Array 2D pasando por cada linea\n",
    "arr = np.array([[1, 2, 3], [4, 5, 6]])\n",
    "for x in arr:\n",
    "    print(x)"
   ]
  },
  {
   "cell_type": "code",
   "execution_count": null,
   "metadata": {},
   "outputs": [],
   "source": [
    "# Array 2D recorriendo cada elemento\n",
    "for x in arr: \n",
    "    for y in x: \n",
    "        print(y)"
   ]
  },
  {
   "cell_type": "code",
   "execution_count": null,
   "metadata": {},
   "outputs": [],
   "source": [
    "# Array 3D pasando por cada matriz 2D\n",
    "arr = np.array([[[1, 2, 3], [4, 5, 6]], [[7, 8, 9], [10, 11, 12]]])\n",
    "for x in arr:\n",
    "     print(x)"
   ]
  },
  {
   "cell_type": "code",
   "execution_count": null,
   "metadata": {},
   "outputs": [],
   "source": [
    "# Array 3D recorriendo todos sus elementos\n",
    "for x in arr: \n",
    "    for y in x: \n",
    "        for z in y: \n",
    "            print(z)"
   ]
  },
  {
   "cell_type": "code",
   "execution_count": null,
   "metadata": {},
   "outputs": [],
   "source": [
    "# nditer()\n",
    "arr = np.array([[[1,2],[3,4]],[[5,6],[7,8]]])\n",
    "for x in np.nditer(arr):\n",
    "    print(x)"
   ]
  },
  {
   "cell_type": "code",
   "execution_count": null,
   "metadata": {},
   "outputs": [],
   "source": [
    "# Iteración con saltos\n",
    "arr = np.array([[1, 2, 3, 4], [5, 6, 7, 8]])\n",
    "for x in np.nditer(arr[:, ::2]):\n",
    "    print(x)"
   ]
  },
  {
   "cell_type": "code",
   "execution_count": null,
   "metadata": {},
   "outputs": [],
   "source": [
    "# Iteracion numerada en array 1D                 \n",
    "arr = np.array([1, 2, 3])\n",
    "for idx, x in np.ndenumerate(arr):\n",
    "    print(idx, x)"
   ]
  },
  {
   "cell_type": "code",
   "execution_count": null,
   "metadata": {},
   "outputs": [],
   "source": [
    "# Iteracion numerada en array 2D  \n",
    "arr = np.array([[1, 2, 3, 4], [5, 6, 7, 8]])\n",
    "for idx, x in np.ndenumerate(arr):\n",
    "    print(idx, x)                 \n",
    "    print(idx, x)  "
   ]
  },
  {
   "attachments": {},
   "cell_type": "markdown",
   "metadata": {},
   "source": [
    "## Busqueda\n",
    "\n",
    "Puedes buscar un valor en un array y retornar el indice donde ha encontrado el valor buscado. Para ello utilizaremos **where()**. \n",
    "\n",
    "También lo podemos hacer utilizando **searchsorted()**"
   ]
  },
  {
   "cell_type": "code",
   "execution_count": null,
   "metadata": {},
   "outputs": [],
   "source": [
    "# where()\n",
    "arr = np.array([1, 2, 3, 4, 5, 2, 4]) \n",
    "x = np.where(arr == 2)\n",
    "x"
   ]
  },
  {
   "cell_type": "code",
   "execution_count": null,
   "metadata": {},
   "outputs": [],
   "source": [
    "# where(), valores impares\n",
    "x = np.where(arr % 2 == 1)\n",
    "x"
   ]
  },
  {
   "cell_type": "code",
   "execution_count": null,
   "metadata": {},
   "outputs": [],
   "source": [
    "# searchsorted()\n",
    "x = np.searchsorted(arr, 1)\n",
    "x"
   ]
  },
  {
   "cell_type": "code",
   "execution_count": null,
   "metadata": {},
   "outputs": [],
   "source": [
    "# searchsorted(), devuelve el indice empezando por la derecha\n",
    "x = np.searchsorted(arr, 4, side = 'right')\n",
    "x"
   ]
  }
 ],
 "metadata": {
  "kernelspec": {
   "display_name": "Python 3",
   "language": "python",
   "name": "python3"
  },
  "language_info": {
   "codemirror_mode": {
    "name": "ipython",
    "version": 3
   },
   "file_extension": ".py",
   "mimetype": "text/x-python",
   "name": "python",
   "nbconvert_exporter": "python",
   "pygments_lexer": "ipython3",
   "version": "3.9.4"
  },
  "orig_nbformat": 4
 },
 "nbformat": 4,
 "nbformat_minor": 2
}
